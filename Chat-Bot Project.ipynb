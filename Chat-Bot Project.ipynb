{
 "cells": [
  {
   "cell_type": "code",
   "execution_count": null,
   "id": "647b4151",
   "metadata": {},
   "outputs": [],
   "source": [
    "from tkinter import *\n",
    "import webbrowser\n",
    "from tkinter import messagebox\n",
    "root = Tk()\n",
    "def send():\n",
    "send = \"You:\"+ e.get()\n",
    "text.insert(END,\"\\n\" + send)\n",
    "if(e.get()==ThiT):\n",
    "text.insert(END, \"\\n\" + \"Bot: hello\")\n",
    "elif(e.get()==ThelloT):\n",
    "text.insert(END, \"\\n\" + \"Bot: hi\")\n",
    "elif (e.get() == Thow are youT):\n",
    "text.insert(END, \"\\n\" + \"Bot: ITm fine what about you\")\n",
    "elif (e.get() == \"ITm also good\"):\n",
    "text.insert(END, \"\\n\" + \"Bot: ThatTs great!\")\n",
    "elif (e.get() == \"How can you help me\"):\n",
    "text.insert(END, \"\\n\" + \"Bot: I can provide a proper website related\n",
    "to your work within a blink of an eye\")\n",
    "elif (e.get() == \"ok!Good bye\"):\n",
    "text.insert(END, \"\\n\" + \"Bot:Good bye! Nice to meet you\")\n",
    "elif (e.get() == TI want to access wikipediaT):\n",
    "text.insert(END,\"\\n\" + \"Bot:Ok\", webbrowser.open(\"wikipedia.com\"))\n",
    "elif (e.get() == TI want to access googleT):\n",
    "text.insert(END, \"\\n\" + \"Bot:Ok\", webbrowser.open(\"google.com\"))\n",
    "elif (e.get() == TI want to access InstagramT):\n",
    "text.insert(END, \"\\n\" + \"Bot:Ok\", webbrowser.open(\"instagram.com\"))\n",
    "elif (e.get() == TI want to access youtubeT):\n",
    "text.insert(END, \"\\n\" + \"Bot:Ok\", webbrowser.open(\"youtube.com\"))\n",
    "elif (e.get() == TI want to access facebookT):\n",
    "text.insert(END, \"\\n\" + \"Bot:Ok\", webbrowser.open(\"facebook.com\"))\n",
    "elif (e.get() == TI want to access google classroomT):\n",
    "text.insert(END, \"\\n\" + \"Bot:Ok\",\n",
    "webbrowser.open(\"https://classroom.google.com/u/0\"))\n",
    "elif (e.get() == TI want to make payment using phonepeT):\n",
    "text.insert(END, \"\\n\" + \"Bot:Ok\", webbrowser.open(\"phonepe.com\"))\n",
    "elif (e.get() == TI want to play a gameT):\n",
    "text.insert(END, \"\\n\" + \"Bot:Ok\", webbrowser.open(\"slotclash.com\"))\n",
    "elif(e.get() == TI want to use calculatorT):\n",
    "text.insert(END, \"\\n\" + \"Bot:Ok\", webbrowser.open(\"online\u0002calculator.com\"))\n",
    "elif (e.get() == TI want to order foodT):\n",
    "text.insert(END, \"\\n\" + \"Bot:Ok\", webbrowser.open(\"zomato.com\"))\n",
    "elif (e.get() == TI want to make bill paymentT):\n",
    "text.insert(END, \"\\n\" + \"Bot:Ok\",\n",
    "webbrowser.open(\"https://wss.mahadiscom.in/wss/wss?uiActionName=getViewPayBil\n",
    "l\"))\n",
    "else:\n",
    "messagebox.showerror(\"Error!!\" ,\"\\n \"\n",
    "\"command not found \" \" \\n \"\n",
    "\"Have a nice day!\")\n",
    "\n",
    "text = Text(root,bg=Tlight greenT,width=100)\n",
    "text.grid(row=0,column=0,columnspan=3)\n",
    "e = Entry(root,width=110)\n",
    "send = Button(root,text=TSENDT,bg=TpinkT,width=30,height=4,command =\n",
    "send).grid(row=1,column=1)\n",
    "e.grid(row=1,column=0)\n",
    "root.title(T ALL IN ONE T)\n",
    "root.mainloop()"
   ]
  },
  {
   "cell_type": "code",
   "execution_count": null,
   "id": "79496d26",
   "metadata": {},
   "outputs": [],
   "source": []
  },
  {
   "cell_type": "code",
   "execution_count": null,
   "id": "051ea3f4",
   "metadata": {},
   "outputs": [],
   "source": []
  },
  {
   "cell_type": "code",
   "execution_count": 9,
   "id": "c68c52bb",
   "metadata": {},
   "outputs": [],
   "source": [
    "from tkinter import *\n",
    "import webbrowser\n",
    "from tkinter import messagebox\n",
    "root = Tk()"
   ]
  },
  {
   "cell_type": "code",
   "execution_count": null,
   "id": "0340210b",
   "metadata": {},
   "outputs": [],
   "source": [
    "def send():\n",
    "send = \"You:\"+ e.get()\n",
    "text.insert(END,\"\\n\" + send)\n",
    "if(e.get()==ThiT):\n",
    "text.insert(END, \"\\n\" + \"Bot: hello\")\n",
    "elif(e.get()==ThelloT):\n",
    "text.insert(END, \"\\n\" + \"Bot: hi\")\n",
    "elif (e.get() == Thow are youT):\n",
    "text.insert(END, \"\\n\" + \"Bot: ITm fine what about you\")\n",
    "elif (e.get() == \"ITm also good\"):\n",
    "text.insert(END, \"\\n\" + \"Bot: ThatTs great!\")\n",
    "elif (e.get() == \"How can you help me\"):\n",
    "text.insert(END, \"\\n\" + \"Bot: I can provide a proper website related\n",
    "to your work within a blink of an eye\")\n",
    "elif (e.get() == \"ok!Good bye\"):\n",
    "text.insert(END, \"\\n\" + \"Bot:Good bye! Nice to meet you\")\n",
    "elif (e.get() == TI want to access wikipediaT):\n",
    "text.insert(END,\"\\n\" + \"Bot:Ok\", webbrowser.open(\"wikipedia.com\"))\n",
    "elif (e.get() == TI want to access googleT):\n",
    "text.insert(END, \"\\n\" + \"Bot:Ok\", webbrowser.open(\"google.com\"))\n",
    "elif (e.get() == TI want to access InstagramT):\n",
    "text.insert(END, \"\\n\" + \"Bot:Ok\", webbrowser.open(\"instagram.com\"))\n",
    "elif (e.get() == TI want to access youtubeT):\n",
    "text.insert(END, \"\\n\" + \"Bot:Ok\", webbrowser.open(\"youtube.com\"))\n",
    "elif (e.get() == TI want to access facebookT):\n",
    "text.insert(END, \"\\n\" + \"Bot:Ok\", webbrowser.open(\"facebook.com\"))"
   ]
  },
  {
   "cell_type": "code",
   "execution_count": null,
   "id": "be35c1af",
   "metadata": {},
   "outputs": [],
   "source": [
    "elif (e.get() == TI want to access google classroomT):\n",
    "text.insert(END, \"\\n\" + \"Bot:Ok\",\n",
    "webbrowser.open(\"https://classroom.google.com/u/0\"))\n",
    "elif (e.get() == TI want to make payment using phonepeT):\n",
    "text.insert(END, \"\\n\" + \"Bot:Ok\", webbrowser.open(\"phonepe.com\"))\n",
    "elif (e.get() == TI want to play a gameT):\n",
    "text.insert(END, \"\\n\" + \"Bot:Ok\", webbrowser.open(\"slotclash.com\"))\n",
    "elif(e.get() == TI want to use calculatorT):\n",
    "text.insert(END, \"\\n\" + \"Bot:Ok\", webbrowser.open(\"online\u0002calculator.com\"))\n",
    "elif (e.get() == TI want to order foodT):\n",
    "text.insert(END, \"\\n\" + \"Bot:Ok\", webbrowser.open(\"zomato.com\"))\n",
    "elif (e.get() == TI want to make bill paymentT):\n",
    "text.insert(END, \"\\n\" + \"Bot:Ok\",\n",
    "webbrowser.open(\"https://wss.mahadiscom.in/wss/wss?uiActionName=getViewPayBil\n",
    "l\"))\n",
    "else:\n",
    "messagebox.showerror(\"Error!!\" ,\"\\n \"\n",
    "\"command not found \" \" \\n \"\n",
    "\"Have a nice day!\")"
   ]
  },
  {
   "cell_type": "code",
   "execution_count": null,
   "id": "b5422f92",
   "metadata": {},
   "outputs": [],
   "source": [
    "text = Text(root,bg=Tlight greenT,width=100)\n",
    "text.grid(row=0,column=0,columnspan=3)\n",
    "e = Entry(root,width=110)\n",
    "send = Button(root,text=TSENDT,bg=TpinkT,width=30,height=4,command =\n",
    "send).grid(row=1,column=1)\n",
    "e.grid(row=1,column=0)\n",
    "root.title(T ALL IN ONE T)\n",
    "root.mainloop()"
   ]
  },
  {
   "cell_type": "code",
   "execution_count": null,
   "id": "24d98503",
   "metadata": {},
   "outputs": [],
   "source": []
  },
  {
   "cell_type": "code",
   "execution_count": null,
   "id": "d71402b8",
   "metadata": {},
   "outputs": [],
   "source": []
  },
  {
   "cell_type": "code",
   "execution_count": 12,
   "id": "22326e71",
   "metadata": {},
   "outputs": [],
   "source": [
    "from tkinter import *\n",
    "import webbrowser\n",
    "from tkinter import messagebox\n",
    "root = Tk()"
   ]
  },
  {
   "cell_type": "code",
   "execution_count": null,
   "id": "cdd012bd",
   "metadata": {},
   "outputs": [],
   "source": [
    "def send():\n",
    "send = \"You:\"+ e.get()\n",
    "text.insert(END,\"\\n\" + send)"
   ]
  },
  {
   "cell_type": "code",
   "execution_count": null,
   "id": "1e370ec9",
   "metadata": {},
   "outputs": [],
   "source": [
    "text = Text(root,bg=Tlight greenT,width=100)\n",
    "text.grid(row=0,column=0,columnspan=3)\n",
    "e = Entry(root,width=110)\n",
    "send = Button(root,text=TSENDT,bg=TpinkT,width=30,height=4,command =\n",
    "send).grid(row=1,column=1)\n",
    "e.grid(row=1,column=0)\n",
    "root.title(T ALL IN ONE T)\n",
    "root.mainloop()"
   ]
  },
  {
   "cell_type": "code",
   "execution_count": null,
   "id": "16fbd79f",
   "metadata": {},
   "outputs": [],
   "source": []
  },
  {
   "cell_type": "code",
   "execution_count": null,
   "id": "f112c081",
   "metadata": {},
   "outputs": [],
   "source": []
  }
 ],
 "metadata": {
  "kernelspec": {
   "display_name": "Python 3 (ipykernel)",
   "language": "python",
   "name": "python3"
  },
  "language_info": {
   "codemirror_mode": {
    "name": "ipython",
    "version": 3
   },
   "file_extension": ".py",
   "mimetype": "text/x-python",
   "name": "python",
   "nbconvert_exporter": "python",
   "pygments_lexer": "ipython3",
   "version": "3.9.6"
  }
 },
 "nbformat": 4,
 "nbformat_minor": 5
}
